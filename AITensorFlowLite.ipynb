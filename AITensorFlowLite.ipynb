{
  "nbformat": 4,
  "nbformat_minor": 0,
  "metadata": {
    "colab": {
      "provenance": [],
      "authorship_tag": "ABX9TyPOC60v+EHRh9wbBvQgWKmU",
      "include_colab_link": true
    },
    "kernelspec": {
      "name": "python3",
      "display_name": "Python 3"
    },
    "language_info": {
      "name": "python"
    }
  },
  "cells": [
    {
      "cell_type": "markdown",
      "metadata": {
        "id": "view-in-github",
        "colab_type": "text"
      },
      "source": [
        "<a href=\"https://colab.research.google.com/github/Zarawar5555/WeatherWise/blob/main/AITensorFlowLite.ipynb\" target=\"_parent\"><img src=\"https://colab.research.google.com/assets/colab-badge.svg\" alt=\"Open In Colab\"/></a>"
      ]
    },
    {
      "cell_type": "code",
      "execution_count": null,
      "metadata": {
        "id": "oea-EWn9ay7a"
      },
      "outputs": [],
      "source": [
        "!pip install -q pandas scikit-learn tensorflow numpy\n",
        "import pandas as pd\n",
        "from google.colab import files\n",
        "uploaded = files.upload()\n",
        "df = pd.read_csv(next(iter(uploaded)))\n",
        "df.head()\n",
        "from sklearn.preprocessing import LabelEncoder\n",
        "import numpy as np\n",
        "condition_encoder = LabelEncoder()\n",
        "df['condition_enc'] = condition_encoder.fit_transform(df['condition'])\n",
        "suggestion_encoder = LabelEncoder()\n",
        "df['suggestion_enc'] = suggestion_encoder.fit_transform(df['suggestion'])\n",
        "\n",
        "\n",
        "X = df[['outdoor_temp', 'outdoor_humidity', 'indoor_temp', 'indoor_humidity', 'condition_enc']].values\n",
        "y = df['suggestion_enc'].values\n",
        "\n",
        "from tensorflow.keras.utils import to_categorical\n",
        "y_cat = to_categorical(y)\n",
        "\n",
        "from sklearn.model_selection import train_test_split\n",
        "X_train, X_test, y_train, y_test = train_test_split(X, y_cat, test_size=0.2, random_state=42)\n",
        "import tensorflow as tf\n",
        "from tensorflow.keras import layers, models\n",
        "model = models.Sequential([\n",
        "    layers.Input(shape=(5,)),\n",
        "    layers.Dense(8, activation='relu'),\n",
        "   layers.Dense(y_cat.shape[1], activation='softmax')\n",
        "])\n",
        "\n",
        "model.compile(optimizer='adam', loss='categorical_crossentropy', metrics=['accuracy'])\n",
        "model.summary()\n",
        "model.fit(X_train, y_train, epochs=50, batch_size=16, validation_data=(X_test, y_test))\n",
        "converter = tf.lite.TFLiteConverter.from_keras_model(model)\n",
        "tflite_model = converter.convert()\n",
        "with open(\"comfort_model.tflite\", \"wb\") as f:\n",
        "    f.write(tflite_model)\n",
        "print(\"✅ TFLite model saved as 'comfort_model.tflite'\")\n",
        "from google.colab import files\n",
        "files.download(\"comfort_model.tflite\")\n"
      ]
    }
  ]
}